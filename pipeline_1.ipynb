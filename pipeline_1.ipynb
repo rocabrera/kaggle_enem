{
 "cells": [
  {
   "cell_type": "code",
   "execution_count": 1,
   "id": "4dda1d28-a68c-44e1-8a7f-3ac69c1503a3",
   "metadata": {},
   "outputs": [],
   "source": [
    "import numpy as np\n",
    "import pandas as pd\n",
    "from tqdm import tqdm\n",
    "from utils import clean_target\n",
    "from categorical_ordinal import get_categorical_ordinal_columns\n",
    "from categorical_nominal import get_categorical_nominal_columns\n",
    "from columns_transformers import ColumnSelector\n",
    "from sklearn.pipeline import Pipeline, FeatureUnion\n",
    "from sklearn.impute import SimpleImputer\n",
    "from sklearn.ensemble import RandomForestRegressor\n",
    "from sklearn.preprocessing import OrdinalEncoder, OneHotEncoder, MinMaxScaler\n",
    "from sklearn.model_selection import train_test_split\n",
    "from sklearn.metrics import mean_absolute_error, mean_squared_error"
   ]
  },
  {
   "cell_type": "markdown",
   "id": "60aa363b-dda5-4949-9228-dfc66bcbe52c",
   "metadata": {},
   "source": [
    "<font color=\"orange\"> <b>Grupos de features:</b></font>\n",
    "\n",
    "- **Categorial Ordinal:**\n",
    "    - TP_ (17-4-3 = 10)\n",
    "    - Questions: ```[\"Q001\", \"Q002\", \"Q003\", \"Q004\", \"Q005\",\"Q006\", \"Q007\", \"Q008\", \"Q009\", \"Q010\", \"Q011\", \"Q012\", \"Q013\", \"Q014\", \"Q015\", \"Q016\", \"Q017\", \"Q019\", \"Q022\", \"Q024\"]``` (20)\n",
    "                     \n",
    "- **Categorial Nominal:**\n",
    "    - IN_ : All Binary (52) \n",
    "    - TP_ : ```[\"TP_SEXO\", \"TP_ESTADO_CIVIL\", \"TP_COR_RACA\", \"TP_NACIONALIDADE\"]``` (4)\n",
    "    - SG_ : (4-1 = 3)\n",
    "    - Questions: ```[\"Q018\", \"Q020\", \"Q021\", \"Q023\", \"Q025\"]``` (5)\n",
    "    \n",
    "- **Numerical:**\n",
    "    - NU_IDADE (1)\n",
    "\n",
    "- Droped:\n",
    "    - Identificator: ```[NU_INSCRICAO]``` (1)\n",
    "    - More than 40% missing: ```['CO_ESCOLA', 'NO_MUNICIPIO_ESC', 'SG_UF_ESC', 'TP_DEPENDENCIA_ADM_ESC', 'TP_LOCALIZACAO_ESC', 'TP_SIT_FUNC_ESC']``` (4)\n",
    "    - NO_M: (To many categories): ```['NO_MUNICIPIO_RESIDENCIA', 'NO_MUNICIPIO_NASCIMENTO', 'NO_MUNICIPIO_PROVA']``` (3)\n",
    "    - NU_NOTA: Targets variables (5)"
   ]
  },
  {
   "cell_type": "code",
   "execution_count": 2,
   "id": "1bcd06b9-be13-466e-8fa5-a16f4a028fe9",
   "metadata": {},
   "outputs": [],
   "source": [
    "train_df = pd.read_parquet(\"data/train.parquet\")\n",
    "clean_target(train_df)\n",
    "#test= pd.read_parquet(\"data/test.parquet\")"
   ]
  },
  {
   "cell_type": "code",
   "execution_count": 3,
   "id": "5d83f90c-fa1c-4cac-806f-aaa5f513c99e",
   "metadata": {
    "tags": []
   },
   "outputs": [
    {
     "name": "stdout",
     "output_type": "stream",
     "text": [
      "Number of categorial ordinal features: 30\n"
     ]
    }
   ],
   "source": [
    "categorical_ordinal_columns = get_categorical_ordinal_columns(train_df)\n",
    "qtd_categorical_ordinal_columns=len(categorical_ordinal_columns)\n",
    "print(f\"Number of categorial ordinal features: {qtd_categorical_ordinal_columns}\")"
   ]
  },
  {
   "cell_type": "code",
   "execution_count": 4,
   "id": "baa07af1-3a9a-4dcb-af11-927f9a01e507",
   "metadata": {},
   "outputs": [
    {
     "name": "stdout",
     "output_type": "stream",
     "text": [
      "Number of categorial nominal features: 64\n"
     ]
    }
   ],
   "source": [
    "categorical_nominal_columns = get_categorical_nominal_columns(train_df)\n",
    "qtd_categorical_nominal_columns = len(categorical_nominal_columns)\n",
    "print(f\"Number of categorial nominal features: {qtd_categorical_nominal_columns}\")"
   ]
  },
  {
   "cell_type": "code",
   "execution_count": 5,
   "id": "24d9402a-7266-4fbd-8e4c-daf8c3bfa614",
   "metadata": {},
   "outputs": [
    {
     "name": "stdout",
     "output_type": "stream",
     "text": [
      "Number of columns dropped: 10\n"
     ]
    }
   ],
   "source": [
    "drop_columns = [\"NU_INSCRICAO\", \n",
    "                \"CO_ESCOLA\", \n",
    "                \"NO_MUNICIPIO_ESC\", \n",
    "                \"SG_UF_ESC\", \n",
    "                \"TP_DEPENDENCIA_ADM_ESC\", \n",
    "                \"TP_LOCALIZACAO_ESC\", \n",
    "                \"TP_SIT_FUNC_ESC\", \n",
    "                \"NO_MUNICIPIO_RESIDENCIA\", \n",
    "                \"NO_MUNICIPIO_NASCIMENTO\", \n",
    "                \"NO_MUNICIPIO_PROVA\"]\n",
    "qtd_drop_columns = len(drop_columns)\n",
    "print(f\"Number of columns dropped: {qtd_drop_columns}\")"
   ]
  },
  {
   "cell_type": "code",
   "execution_count": 6,
   "id": "1eb47dc9-f258-46c0-8fa8-4791430889bc",
   "metadata": {},
   "outputs": [
    {
     "name": "stdout",
     "output_type": "stream",
     "text": [
      "Number of targets: 5\n"
     ]
    }
   ],
   "source": [
    "target_columns = train_df.filter(regex=\"NU_NOTA\").columns.tolist()\n",
    "qtd_target_columns = len(target_columns)\n",
    "print(f\"Number of targets: {qtd_target_columns}\")"
   ]
  },
  {
   "cell_type": "code",
   "execution_count": 7,
   "id": "d25b2177-3207-495e-8efe-43674bae3a1c",
   "metadata": {},
   "outputs": [
    {
     "name": "stdout",
     "output_type": "stream",
     "text": [
      "Number of targets: 1\n"
     ]
    }
   ],
   "source": [
    "numerical_columns = [\"NU_IDADE\"]\n",
    "qtd_numerical_columns = len(numerical_columns)\n",
    "print(f\"Number of targets: {qtd_numerical_columns}\")"
   ]
  },
  {
   "cell_type": "code",
   "execution_count": 8,
   "id": "b28318b3-50b4-4d96-bda6-d105c40c506c",
   "metadata": {},
   "outputs": [
    {
     "name": "stdout",
     "output_type": "stream",
     "text": [
      "Number of targets: 5\n"
     ]
    }
   ],
   "source": [
    "target_columns = train_df.filter(regex=\"NU_NOTA\").columns.tolist()\n",
    "qtd_target_columns = len(target_columns)\n",
    "print(f\"Number of targets: {qtd_target_columns}\")"
   ]
  },
  {
   "cell_type": "code",
   "execution_count": 9,
   "id": "b1d19847-609b-40a0-af3c-67f3cc8e034b",
   "metadata": {},
   "outputs": [
    {
     "name": "stdout",
     "output_type": "stream",
     "text": [
      "Total columns: 110\n"
     ]
    }
   ],
   "source": [
    "all_columns = drop_columns + categorical_nominal_columns + categorical_ordinal_columns + numerical_columns + target_columns\n",
    "qtd_total = qtd_drop_columns + qtd_categorical_nominal_columns + qtd_categorical_ordinal_columns + qtd_numerical_columns + qtd_target_columns\n",
    "print(f\"Total columns: {qtd_total}\")"
   ]
  },
  {
   "cell_type": "markdown",
   "id": "d018b173-3ad1-4661-b126-3fd1123c94ac",
   "metadata": {},
   "source": [
    "## **Create Pipeline**"
   ]
  },
  {
   "cell_type": "code",
   "execution_count": 50,
   "id": "142ea598-e942-49c3-a213-a5995e22e600",
   "metadata": {},
   "outputs": [],
   "source": [
    "\"\"\"\n",
    "Variáveis categóricas com dados ordinais que tem dados faltantes:\n",
    "- TP_ENSINO: Suposto que NaN representa a categoria faltante descrita nos metadados.\n",
    "- TP_STATUS_REDACAO: Mapeado para outra classe (Faltou na prova)\n",
    "\"\"\"\n",
    "categorical_ordinal_pipe = Pipeline([\n",
    "    ('selector', ColumnSelector(categorical_ordinal_columns)),\n",
    "    ('imputer', SimpleImputer(missing_values=np.nan, \n",
    "                              strategy='constant', \n",
    "                              fill_value=0)),\n",
    "    ('encoder', OrdinalEncoder(handle_unknown='use_encoded_value', unknown_value=-1))\n",
    "])\n",
    "\n",
    "\"\"\"\n",
    "Variáveis categóricas com dados ordinais que tem dados faltantes:\n",
    "- SG_UF_NASCIMENTO: Mapeado para uma nova categoria\n",
    "\"\"\"\n",
    "categorical_nominal_pipe = Pipeline([\n",
    "    ('selector', ColumnSelector(categorical_nominal_columns)),\n",
    "    ('imputer', SimpleImputer(missing_values=np.nan, \n",
    "                              strategy='constant', \n",
    "                              fill_value=\"missing\")),\n",
    "    ('encoder', OneHotEncoder(drop=\"first\", handle_unknown='ignore'))\n",
    "])\n",
    "\n",
    "numerical_pipe = Pipeline([\n",
    "    ('selector', ColumnSelector(numerical_columns)),\n",
    "    ('imputer', SimpleImputer(missing_values=np.nan, \n",
    "                              strategy='constant', \n",
    "                              fill_value=0)),\n",
    "    ('scaler', MinMaxScaler())\n",
    "])\n",
    "\n",
    "\n",
    "preprocessor = FeatureUnion([\n",
    "    ('categorical_ordinal', categorical_ordinal_pipe),\n",
    "    ('categorical_nominal', categorical_nominal_pipe),\n",
    "    ('numerical', numerical_pipe)\n",
    "])\n",
    "\n",
    "kwargs_regressor = {\"n_estimators\":50,\n",
    "                    \"n_jobs\":-1,\n",
    "                    \"verbose\":2}\n",
    "\n",
    "pipe = Pipeline([\n",
    "    ('preprocessor', preprocessor),\n",
    "    ('model', RandomForestRegressor(**kwargs_regressor))\n",
    "])"
   ]
  },
  {
   "cell_type": "code",
   "execution_count": 51,
   "id": "fbc9eab9-98f2-4c8e-b589-01a04dd885a7",
   "metadata": {},
   "outputs": [],
   "source": [
    "n_samples = 50_000\n",
    "X = train_df.sample(n_samples).drop(columns=target_columns+drop_columns)\n",
    "y = train_df.sample(n_samples).filter(regex=\"NU_NOTA\")"
   ]
  },
  {
   "cell_type": "code",
   "execution_count": 52,
   "id": "c4c5f9d7-26b9-4a64-93fb-6e9306fba74f",
   "metadata": {},
   "outputs": [],
   "source": [
    "X_train, X_test, y_train, y_test =  train_test_split(X, y, test_size=0.1, random_state=42)"
   ]
  },
  {
   "cell_type": "code",
   "execution_count": 53,
   "id": "b904c0b3-36ed-41bb-a5ca-0b009e3f675c",
   "metadata": {},
   "outputs": [],
   "source": [
    "def split_target(y):\n",
    "    y_nu_nota_cn = y[\"NU_NOTA_CN\"]\n",
    "    y_nu_nota_ch = y[\"NU_NOTA_CH\"]\n",
    "    y_nu_nota_lc = y[\"NU_NOTA_LC\"]\n",
    "    y_nu_nota_mt = y[\"NU_NOTA_MT\"]\n",
    "    y_nu_nota_redacao = y[\"NU_NOTA_REDACAO\"]\n",
    "    return (y_nu_nota_cn, y_nu_nota_ch, y_nu_nota_lc, y_nu_nota_mt, y_nu_nota_redacao)\n",
    "\n",
    "y_train_cn, y_train_ch, y_train_lc, y_train_mt, y_train_redacao = split_target(y_train)\n",
    "y_test_cn, y_test_ch, y_test_lc, y_test_mt, y_test_redacao = split_target(y_test)\n",
    "\n",
    "y_structure = {\"NU_NOTA_CN\":[y_train_cn, y_test_cn], \n",
    "               \"NU_NOTA_CH\":[y_train_ch, y_test_ch],\n",
    "               \"NU_NOTA_LC\":[y_train_lc, y_test_lc],\n",
    "               \"NU_NOTA_MT\":[y_train_mt, y_test_mt],\n",
    "               \"NU_NOTA_REDACAO\":[y_train_redacao, y_test_redacao]}"
   ]
  },
  {
   "cell_type": "code",
   "execution_count": 54,
   "id": "cf603ffe-7307-4ea3-bd66-0b38e331572c",
   "metadata": {
    "collapsed": true,
    "jupyter": {
     "outputs_hidden": true
    },
    "tags": []
   },
   "outputs": [
    {
     "name": "stderr",
     "output_type": "stream",
     "text": [
      "  0%|                                                                                                                                                                                    | 0/5 [00:00<?, ?it/s][Parallel(n_jobs=-1)]: Using backend ThreadingBackend with 8 concurrent workers.\n"
     ]
    },
    {
     "name": "stdout",
     "output_type": "stream",
     "text": [
      "building tree 1 of 50\n",
      "building tree 2 of 50\n",
      "building tree 3 of 50\n",
      "building tree 4 of 50\n",
      "building tree 5 of 50\n",
      "building tree 6 of 50\n",
      "building tree 7 of 50\n",
      "building tree 8 of 50\n",
      "building tree 9 of 50\n",
      "building tree 10 of 50\n",
      "building tree 11 of 50\n",
      "building tree 12 of 50\n",
      "building tree 13 of 50\n",
      "building tree 14 of 50\n",
      "building tree 15 of 50\n",
      "building tree 16 of 50\n",
      "building tree 17 of 50\n",
      "building tree 18 of 50\n",
      "building tree 19 of 50\n",
      "building tree 20 of 50\n",
      "building tree 21 of 50\n",
      "building tree 22 of 50\n",
      "building tree 23 of 50\n",
      "building tree 24 of 50\n",
      "building tree 25 of 50\n",
      "building tree 26 of 50\n",
      "building tree 27 of 50\n",
      "building tree 28 of 50\n",
      "building tree 29 of 50\n",
      "building tree 30 of 50\n",
      "building tree 31 of 50\n",
      "building tree 32 of 50\n"
     ]
    },
    {
     "name": "stderr",
     "output_type": "stream",
     "text": [
      "[Parallel(n_jobs=-1)]: Done  25 tasks      | elapsed:   56.3s\n"
     ]
    },
    {
     "name": "stdout",
     "output_type": "stream",
     "text": [
      "building tree 33 of 50\n",
      "building tree 34 of 50\n",
      "building tree 35 of 50\n",
      "building tree 36 of 50\n",
      "building tree 37 of 50\n",
      "building tree 38 of 50\n",
      "building tree 39 of 50\n",
      "building tree 40 of 50\n",
      "building tree 41 of 50\n",
      "building tree 42 of 50\n",
      "building tree 43 of 50\n",
      "building tree 44 of 50\n",
      "building tree 45 of 50\n",
      "building tree 46 of 50\n",
      "building tree 47 of 50\n",
      "building tree 48 of 50\n",
      "building tree 49 of 50\n",
      "building tree 50 of 50\n"
     ]
    },
    {
     "name": "stderr",
     "output_type": "stream",
     "text": [
      "[Parallel(n_jobs=-1)]: Done  50 out of  50 | elapsed:  1.6min finished\n",
      "[Parallel(n_jobs=8)]: Using backend ThreadingBackend with 8 concurrent workers.\n",
      "[Parallel(n_jobs=8)]: Done  25 tasks      | elapsed:    0.1s\n",
      "[Parallel(n_jobs=8)]: Done  50 out of  50 | elapsed:    0.1s finished\n",
      "[Parallel(n_jobs=8)]: Using backend ThreadingBackend with 8 concurrent workers.\n",
      "[Parallel(n_jobs=8)]: Done  25 tasks      | elapsed:    0.0s\n",
      "[Parallel(n_jobs=8)]: Done  50 out of  50 | elapsed:    0.0s finished\n",
      " 20%|██████████████████████████████████▍                                                                                                                                         | 1/5 [01:36<06:27, 96.92s/it][Parallel(n_jobs=-1)]: Using backend ThreadingBackend with 8 concurrent workers.\n"
     ]
    },
    {
     "name": "stdout",
     "output_type": "stream",
     "text": [
      "building tree 1 of 50\n",
      "building tree 2 of 50\n",
      "building tree 3 of 50\n",
      "building tree 4 of 50\n",
      "building tree 5 of 50\n",
      "building tree 6 of 50\n",
      "building tree 7 of 50\n",
      "building tree 8 of 50\n",
      "building tree 9 of 50\n",
      "building tree 10 of 50\n",
      "building tree 11 of 50\n",
      "building tree 12 of 50\n",
      "building tree 13 of 50\n",
      "building tree 14 of 50\n",
      "building tree 15 of 50\n",
      "building tree 16 of 50\n",
      "building tree 17 of 50\n",
      "building tree 18 of 50\n",
      "building tree 19 of 50\n",
      "building tree 20 of 50\n",
      "building tree 21 of 50\n",
      "building tree 22 of 50\n",
      "building tree 23 of 50\n",
      "building tree 24 of 50\n",
      "building tree 25 of 50\n",
      "building tree 26 of 50\n",
      "building tree 27 of 50\n",
      "building tree 28 of 50\n",
      "building tree 29 of 50\n",
      "building tree 30 of 50\n",
      "building tree 31 of 50\n",
      "building tree 32 of 50\n",
      "building tree 33 of 50\n",
      "building tree 34 of 50\n"
     ]
    },
    {
     "name": "stderr",
     "output_type": "stream",
     "text": [
      "[Parallel(n_jobs=-1)]: Done  25 tasks      | elapsed:  1.1min\n"
     ]
    },
    {
     "name": "stdout",
     "output_type": "stream",
     "text": [
      "building tree 35 of 50\n",
      "building tree 36 of 50\n",
      "building tree 37 of 50\n",
      "building tree 38 of 50\n",
      "building tree 39 of 50\n",
      "building tree 40 of 50\n",
      "building tree 41 of 50\n",
      "building tree 42 of 50\n",
      "building tree 43 of 50\n",
      "building tree 44 of 50\n",
      "building tree 45 of 50\n",
      "building tree 46 of 50\n",
      "building tree 47 of 50\n",
      "building tree 48 of 50\n",
      "building tree 49 of 50\n",
      "building tree 50 of 50\n"
     ]
    },
    {
     "name": "stderr",
     "output_type": "stream",
     "text": [
      "[Parallel(n_jobs=-1)]: Done  50 out of  50 | elapsed:  1.8min finished\n",
      "[Parallel(n_jobs=8)]: Using backend ThreadingBackend with 8 concurrent workers.\n",
      "[Parallel(n_jobs=8)]: Done  25 tasks      | elapsed:    0.1s\n",
      "[Parallel(n_jobs=8)]: Done  50 out of  50 | elapsed:    0.1s finished\n",
      "[Parallel(n_jobs=8)]: Using backend ThreadingBackend with 8 concurrent workers.\n",
      "[Parallel(n_jobs=8)]: Done  25 tasks      | elapsed:    0.0s\n",
      "[Parallel(n_jobs=8)]: Done  50 out of  50 | elapsed:    0.0s finished\n",
      " 40%|████████████████████████████████████████████████████████████████████▍                                                                                                      | 2/5 [03:27<05:15, 105.04s/it][Parallel(n_jobs=-1)]: Using backend ThreadingBackend with 8 concurrent workers.\n"
     ]
    },
    {
     "name": "stdout",
     "output_type": "stream",
     "text": [
      "building tree 1 of 50\n",
      "building tree 2 of 50\n",
      "building tree 3 of 50\n",
      "building tree 4 of 50\n",
      "building tree 5 of 50\n",
      "building tree 6 of 50building tree 7 of 50\n",
      "\n",
      "building tree 8 of 50\n",
      "building tree 9 of 50\n",
      "building tree 10 of 50\n",
      "building tree 11 of 50\n",
      "building tree 12 of 50\n",
      "building tree 13 of 50\n",
      "building tree 14 of 50\n",
      "building tree 15 of 50\n",
      "building tree 16 of 50\n",
      "building tree 17 of 50\n",
      "building tree 18 of 50\n",
      "building tree 19 of 50\n",
      "building tree 20 of 50\n",
      "building tree 21 of 50\n",
      "building tree 22 of 50building tree 23 of 50\n",
      "\n",
      "building tree 24 of 50\n",
      "building tree 25 of 50\n",
      "building tree 26 of 50\n",
      "building tree 27 of 50\n",
      "building tree 28 of 50\n",
      "building tree 29 of 50\n",
      "building tree 30 of 50\n",
      "building tree 31 of 50\n",
      "building tree 32 of 50\n"
     ]
    },
    {
     "name": "stderr",
     "output_type": "stream",
     "text": [
      "[Parallel(n_jobs=-1)]: Done  25 tasks      | elapsed:  1.1min\n"
     ]
    },
    {
     "name": "stdout",
     "output_type": "stream",
     "text": [
      "building tree 33 of 50\n",
      "building tree 34 of 50\n",
      "building tree 35 of 50\n",
      "building tree 36 of 50\n",
      "building tree 37 of 50\n",
      "building tree 38 of 50\n",
      "building tree 39 of 50\n",
      "building tree 40 of 50\n",
      "building tree 41 of 50\n",
      "building tree 42 of 50\n",
      "building tree 43 of 50\n",
      "building tree 44 of 50\n",
      "building tree 45 of 50\n",
      "building tree 46 of 50\n",
      "building tree 47 of 50\n",
      "building tree 48 of 50\n",
      "building tree 49 of 50\n",
      "building tree 50 of 50\n"
     ]
    },
    {
     "name": "stderr",
     "output_type": "stream",
     "text": [
      "[Parallel(n_jobs=-1)]: Done  50 out of  50 | elapsed:  1.8min finished\n",
      "[Parallel(n_jobs=8)]: Using backend ThreadingBackend with 8 concurrent workers.\n",
      "[Parallel(n_jobs=8)]: Done  25 tasks      | elapsed:    0.1s\n",
      "[Parallel(n_jobs=8)]: Done  50 out of  50 | elapsed:    0.1s finished\n",
      "[Parallel(n_jobs=8)]: Using backend ThreadingBackend with 8 concurrent workers.\n",
      "[Parallel(n_jobs=8)]: Done  25 tasks      | elapsed:    0.0s\n",
      "[Parallel(n_jobs=8)]: Done  50 out of  50 | elapsed:    0.0s finished\n",
      " 60%|██████████████████████████████████████████████████████████████████████████████████████████████████████▌                                                                    | 3/5 [05:19<03:36, 108.07s/it][Parallel(n_jobs=-1)]: Using backend ThreadingBackend with 8 concurrent workers.\n"
     ]
    },
    {
     "name": "stdout",
     "output_type": "stream",
     "text": [
      "building tree 1 of 50\n",
      "building tree 2 of 50\n",
      "building tree 3 of 50\n",
      "building tree 4 of 50\n",
      "building tree 5 of 50\n",
      "building tree 6 of 50\n",
      "building tree 7 of 50\n",
      "building tree 8 of 50\n",
      "building tree 9 of 50\n",
      "building tree 10 of 50\n",
      "building tree 11 of 50\n",
      "building tree 12 of 50\n",
      "building tree 13 of 50\n",
      "building tree 14 of 50\n",
      "building tree 15 of 50\n",
      "building tree 16 of 50\n",
      "building tree 17 of 50\n",
      "building tree 18 of 50\n",
      "building tree 19 of 50\n",
      "building tree 20 of 50\n",
      "building tree 21 of 50\n",
      "building tree 22 of 50\n",
      "building tree 23 of 50\n",
      "building tree 24 of 50\n",
      "building tree 25 of 50\n",
      "building tree 26 of 50\n",
      "building tree 27 of 50\n",
      "building tree 28 of 50\n",
      "building tree 29 of 50\n",
      "building tree 30 of 50\n",
      "building tree 31 of 50\n",
      "building tree 32 of 50\n",
      "building tree 33 of 50\n"
     ]
    },
    {
     "name": "stderr",
     "output_type": "stream",
     "text": [
      "[Parallel(n_jobs=-1)]: Done  25 tasks      | elapsed:  1.1min\n"
     ]
    },
    {
     "name": "stdout",
     "output_type": "stream",
     "text": [
      "building tree 34 of 50\n",
      "building tree 35 of 50\n",
      "building tree 36 of 50\n",
      "building tree 37 of 50\n",
      "building tree 38 of 50\n",
      "building tree 39 of 50\n",
      "building tree 40 of 50\n",
      "building tree 41 of 50\n",
      "building tree 42 of 50\n",
      "building tree 43 of 50\n",
      "building tree 44 of 50\n",
      "building tree 45 of 50\n",
      "building tree 46 of 50\n",
      "building tree 47 of 50\n",
      "building tree 48 of 50\n",
      "building tree 49 of 50\n",
      "building tree 50 of 50\n"
     ]
    },
    {
     "name": "stderr",
     "output_type": "stream",
     "text": [
      "[Parallel(n_jobs=-1)]: Done  50 out of  50 | elapsed:  1.8min finished\n",
      "[Parallel(n_jobs=8)]: Using backend ThreadingBackend with 8 concurrent workers.\n",
      "[Parallel(n_jobs=8)]: Done  25 tasks      | elapsed:    0.1s\n",
      "[Parallel(n_jobs=8)]: Done  50 out of  50 | elapsed:    0.1s finished\n",
      "[Parallel(n_jobs=8)]: Using backend ThreadingBackend with 8 concurrent workers.\n",
      "[Parallel(n_jobs=8)]: Done  25 tasks      | elapsed:    0.0s\n",
      "[Parallel(n_jobs=8)]: Done  50 out of  50 | elapsed:    0.0s finished\n",
      " 80%|████████████████████████████████████████████████████████████████████████████████████████████████████████████████████████████████████████▊                                  | 4/5 [07:07<01:48, 108.05s/it][Parallel(n_jobs=-1)]: Using backend ThreadingBackend with 8 concurrent workers.\n"
     ]
    },
    {
     "name": "stdout",
     "output_type": "stream",
     "text": [
      "building tree 1 of 50\n",
      "building tree 2 of 50building tree 3 of 50\n",
      "building tree 4 of 50\n",
      "building tree 5 of 50\n",
      "\n",
      "building tree 6 of 50\n",
      "building tree 7 of 50\n",
      "building tree 8 of 50\n",
      "building tree 9 of 50\n",
      "building tree 10 of 50\n",
      "building tree 11 of 50\n",
      "building tree 12 of 50\n",
      "building tree 13 of 50\n",
      "building tree 14 of 50\n",
      "building tree 15 of 50\n",
      "building tree 16 of 50\n",
      "building tree 17 of 50\n",
      "building tree 18 of 50\n",
      "building tree 19 of 50\n",
      "building tree 20 of 50\n",
      "building tree 21 of 50\n",
      "building tree 22 of 50\n",
      "building tree 23 of 50\n",
      "building tree 24 of 50\n",
      "building tree 25 of 50\n",
      "building tree 26 of 50\n",
      "building tree 27 of 50\n",
      "building tree 28 of 50\n",
      "building tree 29 of 50\n",
      "building tree 30 of 50\n",
      "building tree 31 of 50\n",
      "building tree 32 of 50\n",
      "building tree 33 of 50\n"
     ]
    },
    {
     "name": "stderr",
     "output_type": "stream",
     "text": [
      "[Parallel(n_jobs=-1)]: Done  25 tasks      | elapsed:   59.2s\n"
     ]
    },
    {
     "name": "stdout",
     "output_type": "stream",
     "text": [
      "building tree 34 of 50\n",
      "building tree 35 of 50\n",
      "building tree 36 of 50\n",
      "building tree 37 of 50\n",
      "building tree 38 of 50\n",
      "building tree 39 of 50\n",
      "building tree 40 of 50\n",
      "building tree 41 of 50\n",
      "building tree 42 of 50\n",
      "building tree 43 of 50\n",
      "building tree 44 of 50\n",
      "building tree 45 of 50\n",
      "building tree 46 of 50\n",
      "building tree 47 of 50\n",
      "building tree 48 of 50\n",
      "building tree 49 of 50\n",
      "building tree 50 of 50\n"
     ]
    },
    {
     "name": "stderr",
     "output_type": "stream",
     "text": [
      "[Parallel(n_jobs=-1)]: Done  50 out of  50 | elapsed:  1.7min finished\n",
      "[Parallel(n_jobs=8)]: Using backend ThreadingBackend with 8 concurrent workers.\n",
      "[Parallel(n_jobs=8)]: Done  25 tasks      | elapsed:    0.1s\n",
      "[Parallel(n_jobs=8)]: Done  50 out of  50 | elapsed:    0.1s finished\n",
      "[Parallel(n_jobs=8)]: Using backend ThreadingBackend with 8 concurrent workers.\n",
      "[Parallel(n_jobs=8)]: Done  25 tasks      | elapsed:    0.0s\n",
      "[Parallel(n_jobs=8)]: Done  50 out of  50 | elapsed:    0.0s finished\n",
      "100%|███████████████████████████████████████████████████████████████████████████████████████████████████████████████████████████████████████████████████████████████████████████| 5/5 [08:48<00:00, 105.79s/it]\n"
     ]
    }
   ],
   "source": [
    "for key, ys in tqdm(y_structure.items()):\n",
    "    pipe.fit(X_train, ys[0])\n",
    "    y_train_hat = pipe.predict(X_train)\n",
    "    ys.append(y_train_hat)\n",
    "    y_test_hat = pipe.predict(X_test)\n",
    "    ys.append(y_test_hat)"
   ]
  },
  {
   "cell_type": "code",
   "execution_count": 55,
   "id": "b9d71c26-b5ab-4f0b-bb30-5557ddcf2579",
   "metadata": {
    "tags": []
   },
   "outputs": [
    {
     "name": "stderr",
     "output_type": "stream",
     "text": [
      "100%|██████████████████████████████████████████████████████████████████████████████████████████████████████████████████████████████████████████████████████████████████████████| 5/5 [00:00<00:00, 1157.50it/s]"
     ]
    },
    {
     "name": "stdout",
     "output_type": "stream",
     "text": [
      "NU_NOTA_CN\n",
      "Train: 86.41623573085764\n",
      "Test: 225.54895621204713\n",
      "\n",
      "NU_NOTA_CH\n",
      "Train: 87.32731802551862\n",
      "Test: 227.7540921643278\n",
      "\n",
      "NU_NOTA_LC\n",
      "Train: 88.06731009312595\n",
      "Test: 229.21907935141587\n",
      "\n",
      "NU_NOTA_MT\n",
      "Train: 97.09262883426773\n",
      "Test: 252.79230190709848\n",
      "\n",
      "NU_NOTA_REDACAO\n",
      "Train: 113.2477682332134\n",
      "Test: 296.19734431122475\n",
      "\n"
     ]
    },
    {
     "name": "stderr",
     "output_type": "stream",
     "text": [
      "\n"
     ]
    }
   ],
   "source": [
    "for key, ys in tqdm(y_structure.items()):\n",
    "    train_error = mean_squared_error(ys[0], ys[2], squared=False)\n",
    "    test_error = mean_squared_error(ys[1], ys[3], squared=False)\n",
    "    print(key)\n",
    "    print(f\"Train: {train_error}\")\n",
    "    print(f\"Test: {test_error}\\n\")    "
   ]
  }
 ],
 "metadata": {
  "kernelspec": {
   "display_name": "venv_playground",
   "language": "python",
   "name": "venv_playground"
  },
  "language_info": {
   "codemirror_mode": {
    "name": "ipython",
    "version": 3
   },
   "file_extension": ".py",
   "mimetype": "text/x-python",
   "name": "python",
   "nbconvert_exporter": "python",
   "pygments_lexer": "ipython3",
   "version": "3.9.9"
  }
 },
 "nbformat": 4,
 "nbformat_minor": 5
}
