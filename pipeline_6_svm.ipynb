{
 "cells": [
  {
   "cell_type": "code",
   "execution_count": 1,
   "id": "4dda1d28-a68c-44e1-8a7f-3ac69c1503a3",
   "metadata": {},
   "outputs": [],
   "source": [
    "import numpy as np\n",
    "import pandas as pd\n",
    "from tqdm import tqdm\n",
    "from utils import clean_target\n",
    "from categorical_ordinal import get_categorical_ordinal_columns\n",
    "from categorical_nominal import get_categorical_nominal_columns\n",
    "from columns_transformers import ColumnSelector, GetMunicipioFeatures\n",
    "from sklearn.pipeline import Pipeline, FeatureUnion\n",
    "from sklearn.compose import ColumnTransformer\n",
    "from sklearn.impute import SimpleImputer\n",
    "from sklearn.svm import SVR\n",
    "from sklearn.ensemble import RandomForestRegressor\n",
    "from sklearn.preprocessing import (OrdinalEncoder, OneHotEncoder, MinMaxScaler, PolynomialFeatures)\n",
    "from sklearn.model_selection import train_test_split\n",
    "from sklearn.metrics import mean_absolute_error, mean_squared_error"
   ]
  },
  {
   "cell_type": "markdown",
   "id": "60aa363b-dda5-4949-9228-dfc66bcbe52c",
   "metadata": {},
   "source": [
    "<font color=\"orange\"> <b>Grupos de features:</b></font>\n",
    "\n",
    "- **Categorial Ordinal:**\n",
    "    - TP_ (17-4-3 = 10)\n",
    "    - Questions: ```[\"Q001\", \"Q002\", \"Q003\", \"Q004\", \"Q005\",\"Q006\", \"Q007\", \"Q008\", \"Q009\", \"Q010\", \"Q011\", \"Q012\", \"Q013\", \"Q014\", \"Q015\", \"Q016\", \"Q017\", \"Q019\", \"Q022\", \"Q024\"]``` (20)\n",
    "                     \n",
    "- **Categorial Nominal:**\n",
    "    - IN_ : All Binary (52) \n",
    "    - TP_ : ```[\"TP_SEXO\", \"TP_ESTADO_CIVIL\", \"TP_COR_RACA\", \"TP_NACIONALIDADE\"]``` (4)\n",
    "    - SG_ : (4-1 = 3)\n",
    "    - Questions: ```[\"Q018\", \"Q020\", \"Q021\", \"Q023\", \"Q025\"]``` (5)\n",
    "    \n",
    "- **Numerical:**\n",
    "    - NU_IDADE (1)\n",
    "\n",
    "- Droped:\n",
    "    - Identificator: ```[NU_INSCRICAO]``` (1)\n",
    "    - More than 40% missing: ```['CO_ESCOLA', 'NO_MUNICIPIO_ESC', 'SG_UF_ESC', 'TP_DEPENDENCIA_ADM_ESC', 'TP_LOCALIZACAO_ESC', 'TP_SIT_FUNC_ESC']``` (4)\n",
    "    - NO_M: (To many categories): ```['NO_MUNICIPIO_RESIDENCIA', 'NO_MUNICIPIO_NASCIMENTO', 'NO_MUNICIPIO_PROVA']``` (3)\n",
    "    - NU_NOTA: Targets variables (5)"
   ]
  },
  {
   "cell_type": "code",
   "execution_count": 2,
   "id": "1bcd06b9-be13-466e-8fa5-a16f4a028fe9",
   "metadata": {},
   "outputs": [],
   "source": [
    "train_df = pd.read_parquet(\"data/train.parquet\")\n",
    "clean_target(train_df)\n",
    "#test= pd.read_parquet(\"data/test.parquet\")"
   ]
  },
  {
   "cell_type": "code",
   "execution_count": 3,
   "id": "5d83f90c-fa1c-4cac-806f-aaa5f513c99e",
   "metadata": {
    "tags": []
   },
   "outputs": [
    {
     "name": "stdout",
     "output_type": "stream",
     "text": [
      "Number of categorial ordinal features: 30\n"
     ]
    }
   ],
   "source": [
    "categorical_ordinal_columns = get_categorical_ordinal_columns(train_df)\n",
    "qtd_categorical_ordinal_columns=len(categorical_ordinal_columns)\n",
    "print(f\"Number of categorial ordinal features: {qtd_categorical_ordinal_columns}\")"
   ]
  },
  {
   "cell_type": "code",
   "execution_count": 4,
   "id": "baa07af1-3a9a-4dcb-af11-927f9a01e507",
   "metadata": {},
   "outputs": [
    {
     "name": "stdout",
     "output_type": "stream",
     "text": [
      "Number of categorial nominal features: 64\n"
     ]
    }
   ],
   "source": [
    "categorical_nominal_columns = get_categorical_nominal_columns(train_df)\n",
    "qtd_categorical_nominal_columns = len(categorical_nominal_columns)\n",
    "print(f\"Number of categorial nominal features: {qtd_categorical_nominal_columns}\")"
   ]
  },
  {
   "cell_type": "code",
   "execution_count": 5,
   "id": "24d9402a-7266-4fbd-8e4c-daf8c3bfa614",
   "metadata": {},
   "outputs": [
    {
     "name": "stdout",
     "output_type": "stream",
     "text": [
      "Number of columns dropped: 7\n"
     ]
    }
   ],
   "source": [
    "drop_columns = [\"NU_INSCRICAO\", \n",
    "                \"CO_ESCOLA\", \n",
    "                \"NO_MUNICIPIO_ESC\", \n",
    "                \"SG_UF_ESC\", \n",
    "                \"TP_DEPENDENCIA_ADM_ESC\", \n",
    "                \"TP_LOCALIZACAO_ESC\", \n",
    "                \"TP_SIT_FUNC_ESC\"]\n",
    "qtd_drop_columns = len(drop_columns)\n",
    "print(f\"Number of columns dropped: {qtd_drop_columns}\")\n",
    "\n",
    "custom_features = [\"NO_MUNICIPIO_RESIDENCIA\", \"NO_MUNICIPIO_NASCIMENTO\", \"NO_MUNICIPIO_PROVA\"]"
   ]
  },
  {
   "cell_type": "code",
   "execution_count": 6,
   "id": "1eb47dc9-f258-46c0-8fa8-4791430889bc",
   "metadata": {},
   "outputs": [
    {
     "name": "stdout",
     "output_type": "stream",
     "text": [
      "Number of targets: 5\n"
     ]
    }
   ],
   "source": [
    "target_columns = train_df.filter(regex=\"NU_NOTA\").columns.tolist()\n",
    "qtd_target_columns = len(target_columns)\n",
    "print(f\"Number of targets: {qtd_target_columns}\")"
   ]
  },
  {
   "cell_type": "code",
   "execution_count": 7,
   "id": "d25b2177-3207-495e-8efe-43674bae3a1c",
   "metadata": {},
   "outputs": [
    {
     "name": "stdout",
     "output_type": "stream",
     "text": [
      "Number of targets: 1\n"
     ]
    }
   ],
   "source": [
    "numerical_columns = [\"NU_IDADE\"]\n",
    "qtd_numerical_columns = len(numerical_columns)\n",
    "print(f\"Number of targets: {qtd_numerical_columns}\")"
   ]
  },
  {
   "cell_type": "code",
   "execution_count": 8,
   "id": "b28318b3-50b4-4d96-bda6-d105c40c506c",
   "metadata": {},
   "outputs": [
    {
     "name": "stdout",
     "output_type": "stream",
     "text": [
      "Number of targets: 5\n"
     ]
    }
   ],
   "source": [
    "target_columns = train_df.filter(regex=\"NU_NOTA\").columns.tolist()\n",
    "qtd_target_columns = len(target_columns)\n",
    "print(f\"Number of targets: {qtd_target_columns}\")"
   ]
  },
  {
   "cell_type": "code",
   "execution_count": 9,
   "id": "b1d19847-609b-40a0-af3c-67f3cc8e034b",
   "metadata": {},
   "outputs": [
    {
     "name": "stdout",
     "output_type": "stream",
     "text": [
      "Total columns: 107\n"
     ]
    }
   ],
   "source": [
    "all_columns = drop_columns + categorical_nominal_columns + categorical_ordinal_columns + numerical_columns + target_columns\n",
    "qtd_total = qtd_drop_columns + qtd_categorical_nominal_columns + qtd_categorical_ordinal_columns + qtd_numerical_columns + qtd_target_columns\n",
    "print(f\"Total columns: {qtd_total}\")"
   ]
  },
  {
   "cell_type": "markdown",
   "id": "d018b173-3ad1-4661-b126-3fd1123c94ac",
   "metadata": {},
   "source": [
    "## **Create Pipeline**"
   ]
  },
  {
   "cell_type": "code",
   "execution_count": 10,
   "id": "142ea598-e942-49c3-a213-a5995e22e600",
   "metadata": {},
   "outputs": [],
   "source": [
    "\"\"\"\n",
    "Variáveis categóricas com dados ordinais que tem dados faltantes:\n",
    "- TP_ENSINO: Suposto que NaN representa a categoria faltante descrita nos metadados.\n",
    "- TP_STATUS_REDACAO: Mapeado para outra classe (Faltou na prova)\n",
    "\"\"\"\n",
    "categorical_ordinal_pipe = Pipeline([\n",
    "    ('selector', ColumnSelector(categorical_ordinal_columns)),\n",
    "    ('imputer', SimpleImputer(missing_values=np.nan, \n",
    "                              strategy='constant', \n",
    "                              fill_value=0)),\n",
    "    ('encoder', OrdinalEncoder(handle_unknown='use_encoded_value', unknown_value=-1)),\n",
    "    ('extra_features', PolynomialFeatures(degree=2))\n",
    "])\n",
    "\n",
    "\"\"\"\n",
    "Variáveis categóricas com dados ordinais que tem dados faltantes:\n",
    "- SG_UF_NASCIMENTO: Mapeado para uma nova categoria\n",
    "\"\"\"\n",
    "categorical_nominal_pipe = Pipeline([\n",
    "    ('selector', ColumnSelector(categorical_nominal_columns)),\n",
    "    ('imputer', SimpleImputer(missing_values=np.nan, \n",
    "                              strategy='constant', \n",
    "                              fill_value=\"missing\")),\n",
    "    ('encoder', OneHotEncoder(drop=\"first\", handle_unknown='ignore'))\n",
    "])\n",
    "\n",
    "numerical_pipe = Pipeline([\n",
    "    ('selector', ColumnSelector(numerical_columns)),\n",
    "    ('imputer', SimpleImputer(missing_values=np.nan, \n",
    "                              strategy='constant', \n",
    "                              fill_value=0)),\n",
    "    ('scaler', MinMaxScaler())\n",
    "])\n",
    "\n",
    "extra_features_pipe = Pipeline([\n",
    "    ('selector', ColumnSelector(custom_features)),\n",
    "    ('extra_features', GetMunicipioFeatures())\n",
    "])\n",
    "\n",
    "preprocessor = FeatureUnion([\n",
    "    ('categorical_ordinal', categorical_ordinal_pipe),\n",
    "    ('categorical_nominal', categorical_nominal_pipe),\n",
    "    ('numerical', numerical_pipe),\n",
    "    ('municipio_features', extra_features_pipe)\n",
    "])\n",
    "\n",
    "kwargs_regressor = {\"kernel\":\"poly\",\n",
    "                    \"degree\":3,\n",
    "                    \"C\":1,\n",
    "                    \"verbose\":2}\n",
    "\n",
    "pipe = Pipeline([\n",
    "    ('preprocessor', preprocessor),\n",
    "    ('model', SVR(**kwargs_regressor))\n",
    "])"
   ]
  },
  {
   "cell_type": "code",
   "execution_count": 11,
   "id": "b904c0b3-36ed-41bb-a5ca-0b009e3f675c",
   "metadata": {},
   "outputs": [],
   "source": [
    "def presence_filter(df, key):\n",
    "    cond = df.filter(regex=f\"PRESENCA_{key}|STATUS_{key}\").iloc[:,0] == 1\n",
    "    return df.loc[cond, :], df.loc[~cond, :]\n",
    "\n",
    "\n",
    "y_structure = {\"CN\":[], \n",
    "               \"CH\":[],\n",
    "               \"LC\":[],\n",
    "               \"MT\":[],\n",
    "               \"REDACAO\":[]}"
   ]
  },
  {
   "cell_type": "code",
   "execution_count": null,
   "id": "4504e0ff-02f5-41eb-9820-1301b0be2615",
   "metadata": {
    "tags": []
   },
   "outputs": [
    {
     "name": "stderr",
     "output_type": "stream",
     "text": [
      "  0%|                                                                                                                                                                     | 0/5 [00:00<?, ?it/s]"
     ]
    },
    {
     "name": "stdout",
     "output_type": "stream",
     "text": [
      "[LibSVM]...........*...*.....*\n",
      "optimization finished, #iter = 19036\n",
      "obj = -739562.738191, rho = -455.246247\n",
      "nSV = 13057, nBSV = 12947\n"
     ]
    },
    {
     "name": "stderr",
     "output_type": "stream",
     "text": [
      " 20%|███████████████████████████████▏                                                                                                                            | 1/5 [03:29<13:59, 209.98s/it]"
     ]
    },
    {
     "name": "stdout",
     "output_type": "stream",
     "text": [
      "[LibSVM]............*......*...*\n",
      "optimization finished, #iter = 20610\n",
      "obj = -840947.215204, rho = -495.889126\n",
      "nSV = 13834, nBSV = 13722\n"
     ]
    },
    {
     "name": "stderr",
     "output_type": "stream",
     "text": [
      " 40%|██████████████████████████████████████████████████████████████▍                                                                                             | 2/5 [07:11<10:50, 216.73s/it]"
     ]
    },
    {
     "name": "stdout",
     "output_type": "stream",
     "text": [
      "[LibSVM]................*...*...*\n",
      "optimization finished, #iter = 21885\n",
      "obj = -627078.747080, rho = -516.483630\n",
      "nSV = 13829, nBSV = 13692\n"
     ]
    },
    {
     "name": "stderr",
     "output_type": "stream",
     "text": [
      " 60%|█████████████████████████████████████████████████████████████████████████████████████████████▌                                                              | 3/5 [10:51<07:16, 218.11s/it]"
     ]
    },
    {
     "name": "stdout",
     "output_type": "stream",
     "text": [
      "[LibSVM]...........*\n",
      "optimization finished, #iter = 11194\n",
      "obj = -1035577.486263, rho = -483.186493\n",
      "nSV = 13061, nBSV = 12972\n"
     ]
    },
    {
     "name": "stderr",
     "output_type": "stream",
     "text": [
      " 80%|████████████████████████████████████████████████████████████████████████████████████████████████████████████████████████████▊                               | 4/5 [14:19<03:34, 214.28s/it]"
     ]
    },
    {
     "name": "stdout",
     "output_type": "stream",
     "text": [
      "[LibSVM]..........*\n",
      "optimization finished, #iter = 10333\n",
      "obj = -1508419.501308, rho = -574.614782\n",
      "nSV = 13308, nBSV = 13223\n"
     ]
    }
   ],
   "source": [
    "from joblib import dump\n",
    "n_samples = 20000\n",
    "sample = train_df.sample(n_samples)\n",
    "    \n",
    "for key, ys in tqdm(y_structure.items()):\n",
    "    filtered_sample, missed_exam = presence_filter(sample, key)\n",
    "    X = filtered_sample.drop(columns=target_columns+drop_columns)\n",
    "    y = filtered_sample.filter(regex=f\"NU_NOTA_{key}\")\n",
    "    \n",
    "    X_train, X_test, y_train, y_test =  train_test_split(X, y, test_size=0.1, random_state=42)\n",
    "    pipe.fit(X_train, y_train.values.ravel())\n",
    "    dump(pipe, f\"models/model_{key}.joblib\") \n",
    "    y_train_hat = pipe.predict(X_train)\n",
    "    y_test_hat = pipe.predict(X_test)\n",
    "    ys.extend([y_train, y_test, y_train_hat, y_test_hat])"
   ]
  },
  {
   "cell_type": "code",
   "execution_count": null,
   "id": "b9d71c26-b5ab-4f0b-bb30-5557ddcf2579",
   "metadata": {
    "tags": []
   },
   "outputs": [],
   "source": [
    "mean_train = []\n",
    "mean_test = []\n",
    "for key, ys in tqdm(y_structure.items()):\n",
    "    train_error = mean_squared_error(ys[0], ys[2], squared=False)\n",
    "    mean_train.append(train_error)\n",
    "    test_error = mean_squared_error(ys[1], ys[3], squared=False)\n",
    "    mean_test.append(test_error)\n",
    "    print(key)\n",
    "    print(f\"Train: {train_error}\")\n",
    "    print(f\"Test: {test_error}\\n\")"
   ]
  },
  {
   "cell_type": "code",
   "execution_count": null,
   "id": "44c2fe19-432d-4387-8bab-9a8afc782b28",
   "metadata": {},
   "outputs": [],
   "source": [
    "np.mean(mean_train)"
   ]
  },
  {
   "cell_type": "code",
   "execution_count": null,
   "id": "348b384c-d31e-48dc-8eef-9b86b736b421",
   "metadata": {},
   "outputs": [],
   "source": [
    "np.mean(mean_test)"
   ]
  },
  {
   "cell_type": "code",
   "execution_count": null,
   "id": "25ef94ec-4ddf-411d-954d-19128cae16d5",
   "metadata": {},
   "outputs": [],
   "source": []
  }
 ],
 "metadata": {
  "kernelspec": {
   "display_name": "venv_playground",
   "language": "python",
   "name": "venv_playground"
  },
  "language_info": {
   "codemirror_mode": {
    "name": "ipython",
    "version": 3
   },
   "file_extension": ".py",
   "mimetype": "text/x-python",
   "name": "python",
   "nbconvert_exporter": "python",
   "pygments_lexer": "ipython3",
   "version": "3.9.9"
  }
 },
 "nbformat": 4,
 "nbformat_minor": 5
}
