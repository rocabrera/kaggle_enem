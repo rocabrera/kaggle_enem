{
 "cells": [
  {
   "cell_type": "code",
   "execution_count": 5,
   "id": "46af2c61-6b19-454d-8411-840b1e4cf933",
   "metadata": {
    "tags": []
   },
   "outputs": [],
   "source": [
    "import pandas as pd\n",
    "from joblib import load\n",
    "\n",
    "test_df = pd.read_parquet(\"data/test.parquet\")"
   ]
  },
  {
   "cell_type": "code",
   "execution_count": 6,
   "id": "3dfc1deb-33d3-41bb-9519-dbcb308ade1d",
   "metadata": {},
   "outputs": [],
   "source": [
    "ch_model = load(\"models/model_CH.joblib\")\n",
    "cn_model = load(\"models/model_CN.joblib\")\n",
    "mt_model = load(\"models/model_MT.joblib\")\n",
    "lc_model = load(\"models/model_LC.joblib\")\n",
    "redacao_model = load(\"models/model_REDACAO.joblib\")"
   ]
  },
  {
   "cell_type": "code",
   "execution_count": 7,
   "id": "50c53f13-5f0c-48c8-ae94-68c3612b9ae0",
   "metadata": {
    "tags": []
   },
   "outputs": [
    {
     "name": "stderr",
     "output_type": "stream",
     "text": [
      "/home/rocabrera/.pyenv/versions/3.9.9/envs/venv_playground/lib/python3.9/site-packages/sklearn/preprocessing/_encoders.py:170: UserWarning: Found unknown categories in columns [17, 32, 33, 37, 39, 43, 44, 49] during transform. These unknown categories will be encoded as all zeros\n",
      "  warnings.warn(\n",
      "/home/rocabrera/.pyenv/versions/3.9.9/envs/venv_playground/lib/python3.9/site-packages/sklearn/preprocessing/_encoders.py:170: UserWarning: Found unknown categories in columns [17, 32, 33, 37, 39, 43, 44, 49] during transform. These unknown categories will be encoded as all zeros\n",
      "  warnings.warn(\n",
      "/home/rocabrera/.pyenv/versions/3.9.9/envs/venv_playground/lib/python3.9/site-packages/sklearn/preprocessing/_encoders.py:170: UserWarning: Found unknown categories in columns [17, 32, 33, 37, 39, 43, 44, 49] during transform. These unknown categories will be encoded as all zeros\n",
      "  warnings.warn(\n",
      "/home/rocabrera/.pyenv/versions/3.9.9/envs/venv_playground/lib/python3.9/site-packages/sklearn/preprocessing/_encoders.py:170: UserWarning: Found unknown categories in columns [17, 32, 33, 37, 39, 43, 44, 49] during transform. These unknown categories will be encoded as all zeros\n",
      "  warnings.warn(\n",
      "/home/rocabrera/.pyenv/versions/3.9.9/envs/venv_playground/lib/python3.9/site-packages/sklearn/preprocessing/_encoders.py:170: UserWarning: Found unknown categories in columns [17, 32, 33, 37, 39, 43, 44, 46, 49] during transform. These unknown categories will be encoded as all zeros\n",
      "  warnings.warn(\n"
     ]
    }
   ],
   "source": [
    "def presence_filter(df, key):\n",
    "    cond = df.filter(regex=f\"PRESENCA_{key}|STATUS_{key}\").iloc[:,0] == 1\n",
    "    return df.loc[cond, :], df.loc[~cond, :]\n",
    "\n",
    "models = {\"CN\":cn_model, \n",
    "          \"CH\":ch_model, \n",
    "          \"LC\":lc_model, \n",
    "          \"MT\":mt_model, \n",
    "          \"REDACAO\":redacao_model}\n",
    "\n",
    "submission = test_df[[\"NU_INSCRICAO\"]].copy()\n",
    "\n",
    "submission[\"NU_NOTA_CN\"] = 0 \n",
    "submission[\"NU_NOTA_CH\"] = 0 \n",
    "submission[\"NU_NOTA_MT\"] = 0 \n",
    "submission[\"NU_NOTA_LC\"] = 0 \n",
    "submission[\"NU_NOTA_REDACAO\"] = 0\n",
    "\n",
    "for key, model in models.items():\n",
    "    presente, _ = presence_filter(test_df, key)\n",
    "    y_hat = model.predict(presente)\n",
    "    presentes = submission[\"NU_INSCRICAO\"].isin(presente[\"NU_INSCRICAO\"])\n",
    "    submission.loc[presentes, f\"NU_NOTA_{key}\"] = y_hat"
   ]
  },
  {
   "cell_type": "code",
   "execution_count": 8,
   "id": "84272daa-a7b6-4a77-ae5c-9edcf10b8a53",
   "metadata": {},
   "outputs": [],
   "source": [
    "(submission.filter([\"NU_INSCRICAO\",\n",
    "                   \"NU_NOTA_CN\", \n",
    "                   \"NU_NOTA_CH\", \n",
    "                   \"NU_NOTA_LC\", \"NU_NOTA_MT\", \"NU_NOTA_REDACAO\"])\n",
    "           .to_csv(\"submission.csv\", index=False))"
   ]
  },
  {
   "cell_type": "code",
   "execution_count": null,
   "id": "02297844-4417-42d4-9e51-3291c7e3880a",
   "metadata": {},
   "outputs": [],
   "source": []
  }
 ],
 "metadata": {
  "interpreter": {
   "hash": "0166448f751676955cf4a1fe6c574ee94d5d4fccd125fada50440631b5feaa53"
  },
  "kernelspec": {
   "display_name": "Python 3.9.9 64-bit ('venv_playground': pyenv)",
   "language": "python",
   "name": "python399jvsc74a57bd00166448f751676955cf4a1fe6c574ee94d5d4fccd125fada50440631b5feaa53"
  },
  "language_info": {
   "codemirror_mode": {
    "name": "ipython",
    "version": 3
   },
   "file_extension": ".py",
   "mimetype": "text/x-python",
   "name": "python",
   "nbconvert_exporter": "python",
   "pygments_lexer": "ipython3",
   "version": "3.9.9"
  }
 },
 "nbformat": 4,
 "nbformat_minor": 5
}
