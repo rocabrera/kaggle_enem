{
 "cells": [
  {
   "cell_type": "code",
   "execution_count": 1,
   "id": "46af2c61-6b19-454d-8411-840b1e4cf933",
   "metadata": {
    "tags": []
   },
   "outputs": [],
   "source": [
    "import pandas as pd\n",
    "from joblib import load\n",
    "\n",
    "test_df = pd.read_parquet(\"data/test.parquet\")"
   ]
  },
  {
   "cell_type": "code",
   "execution_count": 2,
   "id": "3dfc1deb-33d3-41bb-9519-dbcb308ade1d",
   "metadata": {},
   "outputs": [],
   "source": [
    "ch_model = load(\"models/model_CH.joblib\")\n",
    "cn_model = load(\"models/model_CN.joblib\")\n",
    "mt_model = load(\"models/model_MT.joblib\")\n",
    "lc_model = load(\"models/model_LC.joblib\")\n",
    "redacao_model = load(\"models/model_REDACAO.joblib\")"
   ]
  },
  {
   "cell_type": "code",
   "execution_count": 3,
   "id": "50c53f13-5f0c-48c8-ae94-68c3612b9ae0",
   "metadata": {
    "collapsed": true,
    "jupyter": {
     "outputs_hidden": true
    },
    "tags": []
   },
   "outputs": [
    {
     "name": "stderr",
     "output_type": "stream",
     "text": [
      "/home/rocabrera/.pyenv/versions/3.9.9/envs/venv_playground/lib/python3.9/site-packages/sklearn/preprocessing/_encoders.py:170: UserWarning: Found unknown categories in columns [3, 5, 14, 17, 25, 29, 31, 32, 33, 34, 37, 38, 39, 41, 42, 43, 44, 45, 46, 48, 49, 51] during transform. These unknown categories will be encoded as all zeros\n",
      "  warnings.warn(\n",
      "[Parallel(n_jobs=8)]: Using backend ThreadingBackend with 8 concurrent workers.\n",
      "[Parallel(n_jobs=8)]: Done  25 tasks      | elapsed:    1.5s\n",
      "[Parallel(n_jobs=8)]: Done 100 out of 100 | elapsed:    5.1s finished\n",
      "/home/rocabrera/.pyenv/versions/3.9.9/envs/venv_playground/lib/python3.9/site-packages/sklearn/preprocessing/_encoders.py:170: UserWarning: Found unknown categories in columns [5, 16, 17, 25, 31, 32, 33, 34, 37, 38, 39, 41, 42, 43, 44, 45, 46, 48, 49, 51] during transform. These unknown categories will be encoded as all zeros\n",
      "  warnings.warn(\n",
      "[Parallel(n_jobs=8)]: Using backend ThreadingBackend with 8 concurrent workers.\n",
      "[Parallel(n_jobs=8)]: Done  25 tasks      | elapsed:    1.3s\n",
      "[Parallel(n_jobs=8)]: Done 100 out of 100 | elapsed:    4.8s finished\n",
      "/home/rocabrera/.pyenv/versions/3.9.9/envs/venv_playground/lib/python3.9/site-packages/sklearn/preprocessing/_encoders.py:170: UserWarning: Found unknown categories in columns [5, 16, 17, 25, 31, 32, 33, 34, 37, 38, 39, 41, 42, 43, 44, 45, 46, 48, 49, 51] during transform. These unknown categories will be encoded as all zeros\n",
      "  warnings.warn(\n",
      "[Parallel(n_jobs=8)]: Using backend ThreadingBackend with 8 concurrent workers.\n",
      "[Parallel(n_jobs=8)]: Done  25 tasks      | elapsed:    1.4s\n",
      "[Parallel(n_jobs=8)]: Done 100 out of 100 | elapsed:    4.9s finished\n",
      "/home/rocabrera/.pyenv/versions/3.9.9/envs/venv_playground/lib/python3.9/site-packages/sklearn/preprocessing/_encoders.py:170: UserWarning: Found unknown categories in columns [3, 5, 14, 17, 25, 29, 31, 32, 33, 34, 37, 38, 39, 41, 42, 43, 44, 45, 46, 48, 49, 51] during transform. These unknown categories will be encoded as all zeros\n",
      "  warnings.warn(\n",
      "[Parallel(n_jobs=8)]: Using backend ThreadingBackend with 8 concurrent workers.\n",
      "[Parallel(n_jobs=8)]: Done  25 tasks      | elapsed:    1.2s\n",
      "[Parallel(n_jobs=8)]: Done 100 out of 100 | elapsed:    4.8s finished\n",
      "/home/rocabrera/.pyenv/versions/3.9.9/envs/venv_playground/lib/python3.9/site-packages/sklearn/preprocessing/_encoders.py:170: UserWarning: Found unknown categories in columns [5, 17, 25, 27, 31, 32, 33, 34, 37, 38, 39, 41, 42, 43, 44, 45, 46, 48, 49, 51] during transform. These unknown categories will be encoded as all zeros\n",
      "  warnings.warn(\n",
      "[Parallel(n_jobs=8)]: Using backend ThreadingBackend with 8 concurrent workers.\n",
      "[Parallel(n_jobs=8)]: Done  25 tasks      | elapsed:    1.3s\n",
      "[Parallel(n_jobs=8)]: Done 100 out of 100 | elapsed:    4.7s finished\n"
     ]
    }
   ],
   "source": [
    "def presence_filter(df, key):\n",
    "    cond = df.filter(regex=f\"PRESENCA_{key}|STATUS_{key}\").iloc[:,0] == 1\n",
    "    return df.loc[cond, :], df.loc[~cond, :]\n",
    "\n",
    "models = {\"CN\":cn_model, \n",
    "          \"CH\":ch_model, \n",
    "          \"LC\":lc_model, \n",
    "          \"MT\":mt_model, \n",
    "          \"REDACAO\":redacao_model}\n",
    "\n",
    "submission = test_df[[\"NU_INSCRICAO\"]].copy()\n",
    "\n",
    "submission[\"NU_NOTA_CN\"] = 0 \n",
    "submission[\"NU_NOTA_CH\"] = 0 \n",
    "submission[\"NU_NOTA_MT\"] = 0 \n",
    "submission[\"NU_NOTA_LC\"] = 0 \n",
    "submission[\"NU_NOTA_REDACAO\"] = 0\n",
    "\n",
    "for key, model in models.items():\n",
    "    presente, _ = presence_filter(test_df, key)\n",
    "    y_hat = model.predict(presente)\n",
    "    presentes = submission[\"NU_INSCRICAO\"].isin(presente[\"NU_INSCRICAO\"])\n",
    "    submission.loc[presentes, f\"NU_NOTA_{key}\"] = y_hat"
   ]
  },
  {
   "cell_type": "code",
   "execution_count": 10,
   "id": "84272daa-a7b6-4a77-ae5c-9edcf10b8a53",
   "metadata": {},
   "outputs": [],
   "source": [
    "(submission.filter([\"NU_INSCRICAO\",\n",
    "                   \"NU_NOTA_CN\", \n",
    "                   \"NU_NOTA_CH\", \n",
    "                   \"NU_NOTA_LC\", \"NU_NOTA_MT\", \"NU_NOTA_REDACAO\"])\n",
    "           .to_csv(\"first_sub.csv\", index=False))"
   ]
  }
 ],
 "metadata": {
  "kernelspec": {
   "display_name": "venv_playground",
   "language": "python",
   "name": "venv_playground"
  },
  "language_info": {
   "codemirror_mode": {
    "name": "ipython",
    "version": 3
   },
   "file_extension": ".py",
   "mimetype": "text/x-python",
   "name": "python",
   "nbconvert_exporter": "python",
   "pygments_lexer": "ipython3",
   "version": "3.9.9"
  }
 },
 "nbformat": 4,
 "nbformat_minor": 5
}
